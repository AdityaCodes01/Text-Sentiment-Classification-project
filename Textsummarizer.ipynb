from transformers import BertTokenizer, BertForSequenceClassification, Trainer, TrainingArguments
from datasets import load_dataset
from sklearn.metrics import f1_score
import numpy as np
import os
import shutil

# Function to clear Hugging Face cache to avoid loading issues
def clear_cache():
    cache_dir = os.path.expanduser("~/.cache/huggingface/datasets")
    if os.path.exists(cache_dir):
        shutil.rmtree(cache_dir)
        print("Hugging Face cache cleared.")

# Load dataset with error handling
def load_data():
    try:
        clear_cache()  # Clear cache before loading
        dataset = load_dataset('imdb', cache_dir=None)  # Avoid cache issues
        return dataset['train'], dataset['test']
    except Exception as e:
        print(f"Error loading dataset: {e}")
        raise

# Tokenize data
def tokenize_data(dataset, tokenizer):
    def tokenize_function(examples):
        return tokenizer(examples['text'], padding='max_length', truncation=True, max_length=512)
    return dataset.map(tokenize_function, batched=True)

# Compute metrics
def compute_metrics(pred):
    labels = pred.label_ids
    preds = np.argmax(pred.predictions, axis=1)
    f1 = f1_score(labels, preds, average='weighted')
    return {'f1': f1}

# Main function
def main():
    # Load model and tokenizer
    model_name = 'bert-base-uncased'
    tokenizer = BertTokenizer.from_pretrained(model_name)
    model = BertForSequenceClassification.from_pretrained(model_name, num_labels=2)
    
    # Load and preprocess data
    train_dataset, test_dataset = load_data()
    train_dataset = tokenize_data(train_dataset, tokenizer)
    test_dataset = tokenize_data(test_dataset, tokenizer)
    
    # Set format for PyTorch
    train_dataset.set_format('torch', columns=['input_ids', 'attention_mask', 'label'])
    test_dataset.set_format('torch', columns=['input_ids', 'attention_mask', 'label'])
    
    # Training arguments
    training_args = TrainingArguments(
        output_dir='./results',
        num_train_epochs=3,
        per_device_train_batch_size=8,
        per_device_eval_batch_size=8,
        evaluation_strategy='epoch',
        save_strategy='epoch',
        load_best_model_at_end=True
    )
    
    # Trainer
    trainer = Trainer(
        model=model,
        args=training_args,
        train_dataset=train_dataset,
        eval_dataset=test_dataset,
        compute_metrics=compute_metrics
    )
    
    # Train and evaluate
    trainer.train()
    results = trainer.evaluate()
    print(f"F1 Score: {results['eval_f1']:.4f}")

if __name__ == "__main__":
    main()
